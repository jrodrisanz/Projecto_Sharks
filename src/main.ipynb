{
 "cells": [
  {
   "cell_type": "code",
   "execution_count": 1,
   "id": "f40b8b26",
   "metadata": {},
   "outputs": [],
   "source": [
    "#importamos las librerias\n",
    "import pandas as pd\n",
    "import numpy as np\n",
    "import pylab as plt\n",
    "import seaborn as sns"
   ]
  },
  {
   "cell_type": "code",
   "execution_count": 2,
   "id": "0e79f382",
   "metadata": {},
   "outputs": [],
   "source": [
    "data = pd.read_csv('../data/attacks.csv', encoding='utf-8', encoding_errors='ignore') #cargamos el archivo"
   ]
  },
  {
   "cell_type": "markdown",
   "id": "da37149a",
   "metadata": {},
   "source": [
    "# Primera exploración"
   ]
  },
  {
   "cell_type": "code",
   "execution_count": 3,
   "id": "b77dc9b6",
   "metadata": {},
   "outputs": [
    {
     "data": {
      "text/html": [
       "<div>\n",
       "<style scoped>\n",
       "    .dataframe tbody tr th:only-of-type {\n",
       "        vertical-align: middle;\n",
       "    }\n",
       "\n",
       "    .dataframe tbody tr th {\n",
       "        vertical-align: top;\n",
       "    }\n",
       "\n",
       "    .dataframe thead th {\n",
       "        text-align: right;\n",
       "    }\n",
       "</style>\n",
       "<table border=\"1\" class=\"dataframe\">\n",
       "  <thead>\n",
       "    <tr style=\"text-align: right;\">\n",
       "      <th></th>\n",
       "      <th>Case Number</th>\n",
       "      <th>Date</th>\n",
       "      <th>Year</th>\n",
       "      <th>Type</th>\n",
       "      <th>Country</th>\n",
       "      <th>Area</th>\n",
       "      <th>Location</th>\n",
       "      <th>Activity</th>\n",
       "      <th>Name</th>\n",
       "      <th>Sex</th>\n",
       "      <th>...</th>\n",
       "      <th>Species</th>\n",
       "      <th>Investigator or Source</th>\n",
       "      <th>pdf</th>\n",
       "      <th>href formula</th>\n",
       "      <th>href</th>\n",
       "      <th>Case Number.1</th>\n",
       "      <th>Case Number.2</th>\n",
       "      <th>original order</th>\n",
       "      <th>Unnamed: 22</th>\n",
       "      <th>Unnamed: 23</th>\n",
       "    </tr>\n",
       "  </thead>\n",
       "  <tbody>\n",
       "    <tr>\n",
       "      <th>0</th>\n",
       "      <td>2018.06.25</td>\n",
       "      <td>25-Jun-2018</td>\n",
       "      <td>2018.0</td>\n",
       "      <td>Boating</td>\n",
       "      <td>USA</td>\n",
       "      <td>California</td>\n",
       "      <td>Oceanside, San Diego County</td>\n",
       "      <td>Paddling</td>\n",
       "      <td>Julie Wolfe</td>\n",
       "      <td>F</td>\n",
       "      <td>...</td>\n",
       "      <td>White shark</td>\n",
       "      <td>R. Collier, GSAF</td>\n",
       "      <td>2018.06.25-Wolfe.pdf</td>\n",
       "      <td>http://sharkattackfile.net/spreadsheets/pdf_di...</td>\n",
       "      <td>http://sharkattackfile.net/spreadsheets/pdf_di...</td>\n",
       "      <td>2018.06.25</td>\n",
       "      <td>2018.06.25</td>\n",
       "      <td>6303.0</td>\n",
       "      <td>NaN</td>\n",
       "      <td>NaN</td>\n",
       "    </tr>\n",
       "    <tr>\n",
       "      <th>1</th>\n",
       "      <td>2018.06.18</td>\n",
       "      <td>18-Jun-2018</td>\n",
       "      <td>2018.0</td>\n",
       "      <td>Unprovoked</td>\n",
       "      <td>USA</td>\n",
       "      <td>Georgia</td>\n",
       "      <td>St. Simon Island, Glynn County</td>\n",
       "      <td>Standing</td>\n",
       "      <td>AdysonMcNeely</td>\n",
       "      <td>F</td>\n",
       "      <td>...</td>\n",
       "      <td>NaN</td>\n",
       "      <td>K.McMurray, TrackingSharks.com</td>\n",
       "      <td>2018.06.18-McNeely.pdf</td>\n",
       "      <td>http://sharkattackfile.net/spreadsheets/pdf_di...</td>\n",
       "      <td>http://sharkattackfile.net/spreadsheets/pdf_di...</td>\n",
       "      <td>2018.06.18</td>\n",
       "      <td>2018.06.18</td>\n",
       "      <td>6302.0</td>\n",
       "      <td>NaN</td>\n",
       "      <td>NaN</td>\n",
       "    </tr>\n",
       "    <tr>\n",
       "      <th>2</th>\n",
       "      <td>2018.06.09</td>\n",
       "      <td>09-Jun-2018</td>\n",
       "      <td>2018.0</td>\n",
       "      <td>Invalid</td>\n",
       "      <td>USA</td>\n",
       "      <td>Hawaii</td>\n",
       "      <td>Habush, Oahu</td>\n",
       "      <td>Surfing</td>\n",
       "      <td>John Denges</td>\n",
       "      <td>M</td>\n",
       "      <td>...</td>\n",
       "      <td>NaN</td>\n",
       "      <td>K.McMurray, TrackingSharks.com</td>\n",
       "      <td>2018.06.09-Denges.pdf</td>\n",
       "      <td>http://sharkattackfile.net/spreadsheets/pdf_di...</td>\n",
       "      <td>http://sharkattackfile.net/spreadsheets/pdf_di...</td>\n",
       "      <td>2018.06.09</td>\n",
       "      <td>2018.06.09</td>\n",
       "      <td>6301.0</td>\n",
       "      <td>NaN</td>\n",
       "      <td>NaN</td>\n",
       "    </tr>\n",
       "    <tr>\n",
       "      <th>3</th>\n",
       "      <td>2018.06.08</td>\n",
       "      <td>08-Jun-2018</td>\n",
       "      <td>2018.0</td>\n",
       "      <td>Unprovoked</td>\n",
       "      <td>AUSTRALIA</td>\n",
       "      <td>New South Wales</td>\n",
       "      <td>Arrawarra Headland</td>\n",
       "      <td>Surfing</td>\n",
       "      <td>male</td>\n",
       "      <td>M</td>\n",
       "      <td>...</td>\n",
       "      <td>2 m shark</td>\n",
       "      <td>B. Myatt, GSAF</td>\n",
       "      <td>2018.06.08-Arrawarra.pdf</td>\n",
       "      <td>http://sharkattackfile.net/spreadsheets/pdf_di...</td>\n",
       "      <td>http://sharkattackfile.net/spreadsheets/pdf_di...</td>\n",
       "      <td>2018.06.08</td>\n",
       "      <td>2018.06.08</td>\n",
       "      <td>6300.0</td>\n",
       "      <td>NaN</td>\n",
       "      <td>NaN</td>\n",
       "    </tr>\n",
       "    <tr>\n",
       "      <th>4</th>\n",
       "      <td>2018.06.04</td>\n",
       "      <td>04-Jun-2018</td>\n",
       "      <td>2018.0</td>\n",
       "      <td>Provoked</td>\n",
       "      <td>MEXICO</td>\n",
       "      <td>Colima</td>\n",
       "      <td>La Ticla</td>\n",
       "      <td>Free diving</td>\n",
       "      <td>Gustavo Ramos</td>\n",
       "      <td>M</td>\n",
       "      <td>...</td>\n",
       "      <td>Tiger shark, 3m</td>\n",
       "      <td>A .Kipper</td>\n",
       "      <td>2018.06.04-Ramos.pdf</td>\n",
       "      <td>http://sharkattackfile.net/spreadsheets/pdf_di...</td>\n",
       "      <td>http://sharkattackfile.net/spreadsheets/pdf_di...</td>\n",
       "      <td>2018.06.04</td>\n",
       "      <td>2018.06.04</td>\n",
       "      <td>6299.0</td>\n",
       "      <td>NaN</td>\n",
       "      <td>NaN</td>\n",
       "    </tr>\n",
       "  </tbody>\n",
       "</table>\n",
       "<p>5 rows × 24 columns</p>\n",
       "</div>"
      ],
      "text/plain": [
       "  Case Number         Date    Year        Type    Country             Area  \\\n",
       "0  2018.06.25  25-Jun-2018  2018.0     Boating        USA       California   \n",
       "1  2018.06.18  18-Jun-2018  2018.0  Unprovoked        USA          Georgia   \n",
       "2  2018.06.09  09-Jun-2018  2018.0     Invalid        USA           Hawaii   \n",
       "3  2018.06.08  08-Jun-2018  2018.0  Unprovoked  AUSTRALIA  New South Wales   \n",
       "4  2018.06.04  04-Jun-2018  2018.0    Provoked     MEXICO           Colima   \n",
       "\n",
       "                         Location     Activity            Name Sex   ...  \\\n",
       "0     Oceanside, San Diego County     Paddling     Julie Wolfe    F  ...   \n",
       "1  St. Simon Island, Glynn County     Standing  AdysonMcNeely     F  ...   \n",
       "2                    Habush, Oahu      Surfing     John Denges    M  ...   \n",
       "3              Arrawarra Headland      Surfing            male    M  ...   \n",
       "4                        La Ticla  Free diving  Gustavo Ramos     M  ...   \n",
       "\n",
       "          Species           Investigator or Source                       pdf  \\\n",
       "0      White shark                R. Collier, GSAF      2018.06.25-Wolfe.pdf   \n",
       "1              NaN  K.McMurray, TrackingSharks.com    2018.06.18-McNeely.pdf   \n",
       "2              NaN  K.McMurray, TrackingSharks.com     2018.06.09-Denges.pdf   \n",
       "3        2 m shark                  B. Myatt, GSAF  2018.06.08-Arrawarra.pdf   \n",
       "4  Tiger shark, 3m                       A .Kipper      2018.06.04-Ramos.pdf   \n",
       "\n",
       "                                        href formula  \\\n",
       "0  http://sharkattackfile.net/spreadsheets/pdf_di...   \n",
       "1  http://sharkattackfile.net/spreadsheets/pdf_di...   \n",
       "2  http://sharkattackfile.net/spreadsheets/pdf_di...   \n",
       "3  http://sharkattackfile.net/spreadsheets/pdf_di...   \n",
       "4  http://sharkattackfile.net/spreadsheets/pdf_di...   \n",
       "\n",
       "                                                href Case Number.1  \\\n",
       "0  http://sharkattackfile.net/spreadsheets/pdf_di...    2018.06.25   \n",
       "1  http://sharkattackfile.net/spreadsheets/pdf_di...    2018.06.18   \n",
       "2  http://sharkattackfile.net/spreadsheets/pdf_di...    2018.06.09   \n",
       "3  http://sharkattackfile.net/spreadsheets/pdf_di...    2018.06.08   \n",
       "4  http://sharkattackfile.net/spreadsheets/pdf_di...    2018.06.04   \n",
       "\n",
       "  Case Number.2 original order Unnamed: 22 Unnamed: 23  \n",
       "0    2018.06.25         6303.0         NaN         NaN  \n",
       "1    2018.06.18         6302.0         NaN         NaN  \n",
       "2    2018.06.09         6301.0         NaN         NaN  \n",
       "3    2018.06.08         6300.0         NaN         NaN  \n",
       "4    2018.06.04         6299.0         NaN         NaN  \n",
       "\n",
       "[5 rows x 24 columns]"
      ]
     },
     "execution_count": 3,
     "metadata": {},
     "output_type": "execute_result"
    }
   ],
   "source": [
    "data.head() #primera visualización"
   ]
  },
  {
   "cell_type": "code",
   "execution_count": 4,
   "id": "967810e5",
   "metadata": {},
   "outputs": [],
   "source": [
    "columns = data.columns\n",
    "\n",
    "# Quitar los espacio en los nombres de las columnas\n",
    "new_columns = [col.replace(' ', '') for col in columns]\n",
    "\n",
    "# Renombrar las columnas\n",
    "data = data.rename(columns=dict(zip(columns, new_columns)))"
   ]
  },
  {
   "cell_type": "code",
   "execution_count": 5,
   "id": "ecbf6c3a",
   "metadata": {},
   "outputs": [
    {
     "data": {
      "text/plain": [
       "(25723, 24)"
      ]
     },
     "execution_count": 5,
     "metadata": {},
     "output_type": "execute_result"
    }
   ],
   "source": [
    "data.shape # dimensiones del archivo"
   ]
  },
  {
   "cell_type": "code",
   "execution_count": 6,
   "id": "b72dc1dd",
   "metadata": {},
   "outputs": [
    {
     "name": "stdout",
     "output_type": "stream",
     "text": [
      "<class 'pandas.core.frame.DataFrame'>\n",
      "RangeIndex: 25723 entries, 0 to 25722\n",
      "Data columns (total 24 columns):\n",
      " #   Column                Non-Null Count  Dtype  \n",
      "---  ------                --------------  -----  \n",
      " 0   CaseNumber            8702 non-null   object \n",
      " 1   Date                  6302 non-null   object \n",
      " 2   Year                  6300 non-null   float64\n",
      " 3   Type                  6298 non-null   object \n",
      " 4   Country               6252 non-null   object \n",
      " 5   Area                  5847 non-null   object \n",
      " 6   Location              5762 non-null   object \n",
      " 7   Activity              5758 non-null   object \n",
      " 8   Name                  6092 non-null   object \n",
      " 9   Sex                   5737 non-null   object \n",
      " 10  Age                   3471 non-null   object \n",
      " 11  Injury                6274 non-null   object \n",
      " 12  Fatal(Y/N)            5763 non-null   object \n",
      " 13  Time                  2948 non-null   object \n",
      " 14  Species               3464 non-null   object \n",
      " 15  InvestigatororSource  6285 non-null   object \n",
      " 16  pdf                   6302 non-null   object \n",
      " 17  hrefformula           6301 non-null   object \n",
      " 18  href                  6302 non-null   object \n",
      " 19  CaseNumber.1          6302 non-null   object \n",
      " 20  CaseNumber.2          6302 non-null   object \n",
      " 21  originalorder         6309 non-null   float64\n",
      " 22  Unnamed:22            1 non-null      object \n",
      " 23  Unnamed:23            2 non-null      object \n",
      "dtypes: float64(2), object(22)\n",
      "memory usage: 4.7+ MB\n"
     ]
    }
   ],
   "source": [
    "data.info() # información de cada columna y su tipo de datos"
   ]
  },
  {
   "cell_type": "code",
   "execution_count": 7,
   "id": "ca650178",
   "metadata": {},
   "outputs": [
    {
     "data": {
      "text/html": [
       "<div>\n",
       "<style scoped>\n",
       "    .dataframe tbody tr th:only-of-type {\n",
       "        vertical-align: middle;\n",
       "    }\n",
       "\n",
       "    .dataframe tbody tr th {\n",
       "        vertical-align: top;\n",
       "    }\n",
       "\n",
       "    .dataframe thead th {\n",
       "        text-align: right;\n",
       "    }\n",
       "</style>\n",
       "<table border=\"1\" class=\"dataframe\">\n",
       "  <thead>\n",
       "    <tr style=\"text-align: right;\">\n",
       "      <th></th>\n",
       "      <th>CaseNumber</th>\n",
       "      <th>Date</th>\n",
       "      <th>Year</th>\n",
       "      <th>Type</th>\n",
       "      <th>Country</th>\n",
       "      <th>Area</th>\n",
       "      <th>Location</th>\n",
       "      <th>Activity</th>\n",
       "      <th>Name</th>\n",
       "      <th>Sex</th>\n",
       "      <th>...</th>\n",
       "      <th>Species</th>\n",
       "      <th>InvestigatororSource</th>\n",
       "      <th>pdf</th>\n",
       "      <th>hrefformula</th>\n",
       "      <th>href</th>\n",
       "      <th>CaseNumber.1</th>\n",
       "      <th>CaseNumber.2</th>\n",
       "      <th>originalorder</th>\n",
       "      <th>Unnamed:22</th>\n",
       "      <th>Unnamed:23</th>\n",
       "    </tr>\n",
       "  </thead>\n",
       "  <tbody>\n",
       "    <tr>\n",
       "      <th>25718</th>\n",
       "      <td>NaN</td>\n",
       "      <td>NaN</td>\n",
       "      <td>NaN</td>\n",
       "      <td>NaN</td>\n",
       "      <td>NaN</td>\n",
       "      <td>NaN</td>\n",
       "      <td>NaN</td>\n",
       "      <td>NaN</td>\n",
       "      <td>NaN</td>\n",
       "      <td>NaN</td>\n",
       "      <td>...</td>\n",
       "      <td>NaN</td>\n",
       "      <td>NaN</td>\n",
       "      <td>NaN</td>\n",
       "      <td>NaN</td>\n",
       "      <td>NaN</td>\n",
       "      <td>NaN</td>\n",
       "      <td>NaN</td>\n",
       "      <td>NaN</td>\n",
       "      <td>NaN</td>\n",
       "      <td>NaN</td>\n",
       "    </tr>\n",
       "    <tr>\n",
       "      <th>25719</th>\n",
       "      <td>NaN</td>\n",
       "      <td>NaN</td>\n",
       "      <td>NaN</td>\n",
       "      <td>NaN</td>\n",
       "      <td>NaN</td>\n",
       "      <td>NaN</td>\n",
       "      <td>NaN</td>\n",
       "      <td>NaN</td>\n",
       "      <td>NaN</td>\n",
       "      <td>NaN</td>\n",
       "      <td>...</td>\n",
       "      <td>NaN</td>\n",
       "      <td>NaN</td>\n",
       "      <td>NaN</td>\n",
       "      <td>NaN</td>\n",
       "      <td>NaN</td>\n",
       "      <td>NaN</td>\n",
       "      <td>NaN</td>\n",
       "      <td>NaN</td>\n",
       "      <td>NaN</td>\n",
       "      <td>NaN</td>\n",
       "    </tr>\n",
       "    <tr>\n",
       "      <th>25720</th>\n",
       "      <td>NaN</td>\n",
       "      <td>NaN</td>\n",
       "      <td>NaN</td>\n",
       "      <td>NaN</td>\n",
       "      <td>NaN</td>\n",
       "      <td>NaN</td>\n",
       "      <td>NaN</td>\n",
       "      <td>NaN</td>\n",
       "      <td>NaN</td>\n",
       "      <td>NaN</td>\n",
       "      <td>...</td>\n",
       "      <td>NaN</td>\n",
       "      <td>NaN</td>\n",
       "      <td>NaN</td>\n",
       "      <td>NaN</td>\n",
       "      <td>NaN</td>\n",
       "      <td>NaN</td>\n",
       "      <td>NaN</td>\n",
       "      <td>NaN</td>\n",
       "      <td>NaN</td>\n",
       "      <td>NaN</td>\n",
       "    </tr>\n",
       "    <tr>\n",
       "      <th>25721</th>\n",
       "      <td>NaN</td>\n",
       "      <td>NaN</td>\n",
       "      <td>NaN</td>\n",
       "      <td>NaN</td>\n",
       "      <td>NaN</td>\n",
       "      <td>NaN</td>\n",
       "      <td>NaN</td>\n",
       "      <td>NaN</td>\n",
       "      <td>NaN</td>\n",
       "      <td>NaN</td>\n",
       "      <td>...</td>\n",
       "      <td>NaN</td>\n",
       "      <td>NaN</td>\n",
       "      <td>NaN</td>\n",
       "      <td>NaN</td>\n",
       "      <td>NaN</td>\n",
       "      <td>NaN</td>\n",
       "      <td>NaN</td>\n",
       "      <td>NaN</td>\n",
       "      <td>NaN</td>\n",
       "      <td>NaN</td>\n",
       "    </tr>\n",
       "    <tr>\n",
       "      <th>25722</th>\n",
       "      <td>xx</td>\n",
       "      <td>NaN</td>\n",
       "      <td>NaN</td>\n",
       "      <td>NaN</td>\n",
       "      <td>NaN</td>\n",
       "      <td>NaN</td>\n",
       "      <td>NaN</td>\n",
       "      <td>NaN</td>\n",
       "      <td>NaN</td>\n",
       "      <td>NaN</td>\n",
       "      <td>...</td>\n",
       "      <td>NaN</td>\n",
       "      <td>NaN</td>\n",
       "      <td>NaN</td>\n",
       "      <td>NaN</td>\n",
       "      <td>NaN</td>\n",
       "      <td>NaN</td>\n",
       "      <td>NaN</td>\n",
       "      <td>NaN</td>\n",
       "      <td>NaN</td>\n",
       "      <td>NaN</td>\n",
       "    </tr>\n",
       "  </tbody>\n",
       "</table>\n",
       "<p>5 rows × 24 columns</p>\n",
       "</div>"
      ],
      "text/plain": [
       "      CaseNumber Date  Year Type Country Area Location Activity Name  Sex  \\\n",
       "25718        NaN  NaN   NaN  NaN     NaN  NaN      NaN      NaN  NaN  NaN   \n",
       "25719        NaN  NaN   NaN  NaN     NaN  NaN      NaN      NaN  NaN  NaN   \n",
       "25720        NaN  NaN   NaN  NaN     NaN  NaN      NaN      NaN  NaN  NaN   \n",
       "25721        NaN  NaN   NaN  NaN     NaN  NaN      NaN      NaN  NaN  NaN   \n",
       "25722         xx  NaN   NaN  NaN     NaN  NaN      NaN      NaN  NaN  NaN   \n",
       "\n",
       "       ... Species InvestigatororSource  pdf hrefformula href CaseNumber.1  \\\n",
       "25718  ...     NaN                  NaN  NaN         NaN  NaN          NaN   \n",
       "25719  ...     NaN                  NaN  NaN         NaN  NaN          NaN   \n",
       "25720  ...     NaN                  NaN  NaN         NaN  NaN          NaN   \n",
       "25721  ...     NaN                  NaN  NaN         NaN  NaN          NaN   \n",
       "25722  ...     NaN                  NaN  NaN         NaN  NaN          NaN   \n",
       "\n",
       "      CaseNumber.2 originalorder Unnamed:22 Unnamed:23  \n",
       "25718          NaN           NaN        NaN        NaN  \n",
       "25719          NaN           NaN        NaN        NaN  \n",
       "25720          NaN           NaN        NaN        NaN  \n",
       "25721          NaN           NaN        NaN        NaN  \n",
       "25722          NaN           NaN        NaN        NaN  \n",
       "\n",
       "[5 rows x 24 columns]"
      ]
     },
     "execution_count": 7,
     "metadata": {},
     "output_type": "execute_result"
    }
   ],
   "source": [
    "data.tail() # las filas del final estan llenas de nulos"
   ]
  },
  {
   "cell_type": "code",
   "execution_count": 8,
   "id": "b9ea1659",
   "metadata": {},
   "outputs": [
    {
     "data": {
      "text/plain": [
       "CaseNumber              66.170353\n",
       "Date                    75.500525\n",
       "Year                    75.508300\n",
       "Type                    75.516075\n",
       "Country                 75.694903\n",
       "Area                    77.269370\n",
       "Location                77.599813\n",
       "Activity                77.615364\n",
       "Name                    76.316915\n",
       "Sex                     77.697003\n",
       "Age                     86.506240\n",
       "Injury                  75.609377\n",
       "Fatal(Y/N)              77.595926\n",
       "Time                    88.539439\n",
       "Species                 86.533453\n",
       "InvestigatororSource    75.566614\n",
       "pdf                     75.500525\n",
       "hrefformula             75.504412\n",
       "href                    75.500525\n",
       "CaseNumber.1            75.500525\n",
       "CaseNumber.2            75.500525\n",
       "originalorder           75.473312\n",
       "Unnamed:22              99.996112\n",
       "Unnamed:23              99.992225\n",
       "dtype: float64"
      ]
     },
     "execution_count": 8,
     "metadata": {},
     "output_type": "execute_result"
    }
   ],
   "source": [
    "nan_cols = data.isna().mean() * 100  # porcentaje de nulo en cada columna\n",
    "nan_cols[nan_cols>0]"
   ]
  },
  {
   "cell_type": "code",
   "execution_count": 9,
   "id": "8cf38836",
   "metadata": {
    "scrolled": true
   },
   "outputs": [],
   "source": [
    "# función para checkear la cantidad de nulos\n",
    "def check_nan(data: pd.DataFrame):  \n",
    "    plt.figure(figsize=(10, 6))\n",
    "\n",
    "    sns.heatmap(data.isna(),    \n",
    "                yticklabels=False,  \n",
    "                cmap='viridis',     \n",
    "                cbar=False,         \n",
    "               )\n",
    "\n",
    "\n",
    "    plt.show();"
   ]
  },
  {
   "cell_type": "code",
   "execution_count": 10,
   "id": "aa57c199",
   "metadata": {},
   "outputs": [
    {
     "data": {
      "image/png": "[encoded data removed]",
      "text/plain": [
       "<Figure size 1000x600 with 1 Axes>"
      ]
     },
     "metadata": {},
     "output_type": "display_data"
    }
   ],
   "source": [
    "check_nan(data)"
   ]
  },
  {
   "cell_type": "code",
   "execution_count": 11,
   "id": "325d7a71",
   "metadata": {},
   "outputs": [],
   "source": [
    "data.dropna(how='all', inplace=True) #borramos todas las filas que tengan nulos"
   ]
  },
  {
   "cell_type": "code",
   "execution_count": 12,
   "id": "772b8ac0",
   "metadata": {},
   "outputs": [
    {
     "data": {
      "image/png": "[encoded data removed]",
      "text/plain": [
       "<Figure size 1000x600 with 1 Axes>"
      ]
     },
     "metadata": {},
     "output_type": "display_data"
    }
   ],
   "source": [
    "check_nan(data)"
   ]
  },
  {
   "cell_type": "code",
   "execution_count": 13,
   "id": "9e2815fb",
   "metadata": {},
   "outputs": [
    {
     "data": {
      "text/plain": [
       "CaseNumber               0.011490\n",
       "Date                    27.588188\n",
       "Year                    27.611169\n",
       "Type                    27.634149\n",
       "Country                 28.162703\n",
       "Area                    32.816270\n",
       "Location                33.792945\n",
       "Activity                33.838906\n",
       "Name                    30.001149\n",
       "Sex                     34.080202\n",
       "Age                     60.117201\n",
       "Injury                  27.909916\n",
       "Fatal(Y/N)              33.781455\n",
       "Time                    66.126623\n",
       "Species                 60.197633\n",
       "InvestigatororSource    27.783523\n",
       "pdf                     27.588188\n",
       "hrefformula             27.599678\n",
       "href                    27.588188\n",
       "CaseNumber.1            27.588188\n",
       "CaseNumber.2            27.588188\n",
       "originalorder           27.507756\n",
       "Unnamed:22              99.988510\n",
       "Unnamed:23              99.977019\n",
       "dtype: float64"
      ]
     },
     "execution_count": 13,
     "metadata": {},
     "output_type": "execute_result"
    }
   ],
   "source": [
    "nan_cols = data.isna().mean() * 100  # porcentaje de nulo en cada columna\n",
    "nan_cols[nan_cols>0]                 #las dos últimas dolumnas son nulas en un 99% y no son relevantes en este análisis"
   ]
  },
  {
   "cell_type": "code",
   "execution_count": 14,
   "id": "391ccf7c",
   "metadata": {},
   "outputs": [
    {
     "data": {
      "image/png": "[encoded data removed]",
      "text/plain": [
       "<Figure size 1000x600 with 1 Axes>"
      ]
     },
     "metadata": {},
     "output_type": "display_data"
    }
   ],
   "source": [
    "check_nan(data)"
   ]
  },
  {
   "cell_type": "code",
   "execution_count": 15,
   "id": "8f8fbbe4",
   "metadata": {},
   "outputs": [
    {
     "data": {
      "text/plain": [
       "True"
      ]
     },
     "execution_count": 15,
     "metadata": {},
     "output_type": "execute_result"
    }
   ],
   "source": [
    "subset = data[['Date', 'Year', 'Type', 'Country', 'Area', 'Location', 'Activity', 'Name', 'Sex', 'Age', 'Injury', 'Fatal(Y/N)']]\n",
    "subset.duplicated().any()   # Comprobamos si existen duplicadas\n"
   ]
  },
  {
   "cell_type": "code",
   "execution_count": 16,
   "id": "8d6c2e59",
   "metadata": {},
   "outputs": [],
   "source": [
    "data.drop_duplicates(inplace=True)"
   ]
  },
  {
   "cell_type": "code",
   "execution_count": 17,
   "id": "79396945",
   "metadata": {},
   "outputs": [
    {
     "data": {
      "text/html": [
       "<div>\n",
       "<style scoped>\n",
       "    .dataframe tbody tr th:only-of-type {\n",
       "        vertical-align: middle;\n",
       "    }\n",
       "\n",
       "    .dataframe tbody tr th {\n",
       "        vertical-align: top;\n",
       "    }\n",
       "\n",
       "    .dataframe thead th {\n",
       "        text-align: right;\n",
       "    }\n",
       "</style>\n",
       "<table border=\"1\" class=\"dataframe\">\n",
       "  <thead>\n",
       "    <tr style=\"text-align: right;\">\n",
       "      <th></th>\n",
       "      <th>CaseNumber</th>\n",
       "      <th>Date</th>\n",
       "      <th>Year</th>\n",
       "      <th>Type</th>\n",
       "      <th>Country</th>\n",
       "      <th>Area</th>\n",
       "      <th>Location</th>\n",
       "      <th>Activity</th>\n",
       "      <th>Name</th>\n",
       "      <th>Sex</th>\n",
       "      <th>...</th>\n",
       "      <th>Species</th>\n",
       "      <th>InvestigatororSource</th>\n",
       "      <th>pdf</th>\n",
       "      <th>hrefformula</th>\n",
       "      <th>href</th>\n",
       "      <th>CaseNumber.1</th>\n",
       "      <th>CaseNumber.2</th>\n",
       "      <th>originalorder</th>\n",
       "      <th>Unnamed:22</th>\n",
       "      <th>Unnamed:23</th>\n",
       "    </tr>\n",
       "  </thead>\n",
       "  <tbody>\n",
       "    <tr>\n",
       "      <th>6301</th>\n",
       "      <td>ND.0001</td>\n",
       "      <td>1845-1853</td>\n",
       "      <td>0.0</td>\n",
       "      <td>Unprovoked</td>\n",
       "      <td>CEYLON (SRI LANKA)</td>\n",
       "      <td>Eastern Province</td>\n",
       "      <td>Below the English fort, Trincomalee</td>\n",
       "      <td>Swimming</td>\n",
       "      <td>male</td>\n",
       "      <td>M</td>\n",
       "      <td>...</td>\n",
       "      <td>NaN</td>\n",
       "      <td>S.W. Baker</td>\n",
       "      <td>ND-0001-Ceylon.pdf</td>\n",
       "      <td>http://sharkattackfile.net/spreadsheets/pdf_di...</td>\n",
       "      <td>http://sharkattackfile.net/spreadsheets/pdf_di...</td>\n",
       "      <td>ND.0001</td>\n",
       "      <td>ND.0001</td>\n",
       "      <td>2.0</td>\n",
       "      <td>NaN</td>\n",
       "      <td>NaN</td>\n",
       "    </tr>\n",
       "    <tr>\n",
       "      <th>6302</th>\n",
       "      <td>0</td>\n",
       "      <td>NaN</td>\n",
       "      <td>NaN</td>\n",
       "      <td>NaN</td>\n",
       "      <td>NaN</td>\n",
       "      <td>NaN</td>\n",
       "      <td>NaN</td>\n",
       "      <td>NaN</td>\n",
       "      <td>NaN</td>\n",
       "      <td>NaN</td>\n",
       "      <td>...</td>\n",
       "      <td>NaN</td>\n",
       "      <td>NaN</td>\n",
       "      <td>NaN</td>\n",
       "      <td>NaN</td>\n",
       "      <td>NaN</td>\n",
       "      <td>NaN</td>\n",
       "      <td>NaN</td>\n",
       "      <td>6304.0</td>\n",
       "      <td>NaN</td>\n",
       "      <td>NaN</td>\n",
       "    </tr>\n",
       "    <tr>\n",
       "      <th>6303</th>\n",
       "      <td>0</td>\n",
       "      <td>NaN</td>\n",
       "      <td>NaN</td>\n",
       "      <td>NaN</td>\n",
       "      <td>NaN</td>\n",
       "      <td>NaN</td>\n",
       "      <td>NaN</td>\n",
       "      <td>NaN</td>\n",
       "      <td>NaN</td>\n",
       "      <td>NaN</td>\n",
       "      <td>...</td>\n",
       "      <td>NaN</td>\n",
       "      <td>NaN</td>\n",
       "      <td>NaN</td>\n",
       "      <td>NaN</td>\n",
       "      <td>NaN</td>\n",
       "      <td>NaN</td>\n",
       "      <td>NaN</td>\n",
       "      <td>6305.0</td>\n",
       "      <td>NaN</td>\n",
       "      <td>NaN</td>\n",
       "    </tr>\n",
       "    <tr>\n",
       "      <th>6304</th>\n",
       "      <td>0</td>\n",
       "      <td>NaN</td>\n",
       "      <td>NaN</td>\n",
       "      <td>NaN</td>\n",
       "      <td>NaN</td>\n",
       "      <td>NaN</td>\n",
       "      <td>NaN</td>\n",
       "      <td>NaN</td>\n",
       "      <td>NaN</td>\n",
       "      <td>NaN</td>\n",
       "      <td>...</td>\n",
       "      <td>NaN</td>\n",
       "      <td>NaN</td>\n",
       "      <td>NaN</td>\n",
       "      <td>NaN</td>\n",
       "      <td>NaN</td>\n",
       "      <td>NaN</td>\n",
       "      <td>NaN</td>\n",
       "      <td>6306.0</td>\n",
       "      <td>NaN</td>\n",
       "      <td>NaN</td>\n",
       "    </tr>\n",
       "    <tr>\n",
       "      <th>6305</th>\n",
       "      <td>0</td>\n",
       "      <td>NaN</td>\n",
       "      <td>NaN</td>\n",
       "      <td>NaN</td>\n",
       "      <td>NaN</td>\n",
       "      <td>NaN</td>\n",
       "      <td>NaN</td>\n",
       "      <td>NaN</td>\n",
       "      <td>NaN</td>\n",
       "      <td>NaN</td>\n",
       "      <td>...</td>\n",
       "      <td>NaN</td>\n",
       "      <td>NaN</td>\n",
       "      <td>NaN</td>\n",
       "      <td>NaN</td>\n",
       "      <td>NaN</td>\n",
       "      <td>NaN</td>\n",
       "      <td>NaN</td>\n",
       "      <td>6307.0</td>\n",
       "      <td>NaN</td>\n",
       "      <td>NaN</td>\n",
       "    </tr>\n",
       "    <tr>\n",
       "      <th>6306</th>\n",
       "      <td>0</td>\n",
       "      <td>NaN</td>\n",
       "      <td>NaN</td>\n",
       "      <td>NaN</td>\n",
       "      <td>NaN</td>\n",
       "      <td>NaN</td>\n",
       "      <td>NaN</td>\n",
       "      <td>NaN</td>\n",
       "      <td>NaN</td>\n",
       "      <td>NaN</td>\n",
       "      <td>...</td>\n",
       "      <td>NaN</td>\n",
       "      <td>NaN</td>\n",
       "      <td>NaN</td>\n",
       "      <td>NaN</td>\n",
       "      <td>NaN</td>\n",
       "      <td>NaN</td>\n",
       "      <td>NaN</td>\n",
       "      <td>6308.0</td>\n",
       "      <td>NaN</td>\n",
       "      <td>NaN</td>\n",
       "    </tr>\n",
       "    <tr>\n",
       "      <th>6307</th>\n",
       "      <td>0</td>\n",
       "      <td>NaN</td>\n",
       "      <td>NaN</td>\n",
       "      <td>NaN</td>\n",
       "      <td>NaN</td>\n",
       "      <td>NaN</td>\n",
       "      <td>NaN</td>\n",
       "      <td>NaN</td>\n",
       "      <td>NaN</td>\n",
       "      <td>NaN</td>\n",
       "      <td>...</td>\n",
       "      <td>NaN</td>\n",
       "      <td>NaN</td>\n",
       "      <td>NaN</td>\n",
       "      <td>NaN</td>\n",
       "      <td>NaN</td>\n",
       "      <td>NaN</td>\n",
       "      <td>NaN</td>\n",
       "      <td>6309.0</td>\n",
       "      <td>NaN</td>\n",
       "      <td>NaN</td>\n",
       "    </tr>\n",
       "    <tr>\n",
       "      <th>6308</th>\n",
       "      <td>0</td>\n",
       "      <td>NaN</td>\n",
       "      <td>NaN</td>\n",
       "      <td>NaN</td>\n",
       "      <td>NaN</td>\n",
       "      <td>NaN</td>\n",
       "      <td>NaN</td>\n",
       "      <td>NaN</td>\n",
       "      <td>NaN</td>\n",
       "      <td>NaN</td>\n",
       "      <td>...</td>\n",
       "      <td>NaN</td>\n",
       "      <td>NaN</td>\n",
       "      <td>NaN</td>\n",
       "      <td>NaN</td>\n",
       "      <td>NaN</td>\n",
       "      <td>NaN</td>\n",
       "      <td>NaN</td>\n",
       "      <td>6310.0</td>\n",
       "      <td>NaN</td>\n",
       "      <td>NaN</td>\n",
       "    </tr>\n",
       "    <tr>\n",
       "      <th>6309</th>\n",
       "      <td>0</td>\n",
       "      <td>NaN</td>\n",
       "      <td>NaN</td>\n",
       "      <td>NaN</td>\n",
       "      <td>NaN</td>\n",
       "      <td>NaN</td>\n",
       "      <td>NaN</td>\n",
       "      <td>NaN</td>\n",
       "      <td>NaN</td>\n",
       "      <td>NaN</td>\n",
       "      <td>...</td>\n",
       "      <td>NaN</td>\n",
       "      <td>NaN</td>\n",
       "      <td>NaN</td>\n",
       "      <td>NaN</td>\n",
       "      <td>NaN</td>\n",
       "      <td>NaN</td>\n",
       "      <td>NaN</td>\n",
       "      <td>NaN</td>\n",
       "      <td>NaN</td>\n",
       "      <td>NaN</td>\n",
       "    </tr>\n",
       "    <tr>\n",
       "      <th>25722</th>\n",
       "      <td>xx</td>\n",
       "      <td>NaN</td>\n",
       "      <td>NaN</td>\n",
       "      <td>NaN</td>\n",
       "      <td>NaN</td>\n",
       "      <td>NaN</td>\n",
       "      <td>NaN</td>\n",
       "      <td>NaN</td>\n",
       "      <td>NaN</td>\n",
       "      <td>NaN</td>\n",
       "      <td>...</td>\n",
       "      <td>NaN</td>\n",
       "      <td>NaN</td>\n",
       "      <td>NaN</td>\n",
       "      <td>NaN</td>\n",
       "      <td>NaN</td>\n",
       "      <td>NaN</td>\n",
       "      <td>NaN</td>\n",
       "      <td>NaN</td>\n",
       "      <td>NaN</td>\n",
       "      <td>NaN</td>\n",
       "    </tr>\n",
       "  </tbody>\n",
       "</table>\n",
       "<p>10 rows × 24 columns</p>\n",
       "</div>"
      ],
      "text/plain": [
       "      CaseNumber       Date  Year        Type             Country  \\\n",
       "6301     ND.0001  1845-1853   0.0  Unprovoked  CEYLON (SRI LANKA)   \n",
       "6302           0        NaN   NaN         NaN                 NaN   \n",
       "6303           0        NaN   NaN         NaN                 NaN   \n",
       "6304           0        NaN   NaN         NaN                 NaN   \n",
       "6305           0        NaN   NaN         NaN                 NaN   \n",
       "6306           0        NaN   NaN         NaN                 NaN   \n",
       "6307           0        NaN   NaN         NaN                 NaN   \n",
       "6308           0        NaN   NaN         NaN                 NaN   \n",
       "6309           0        NaN   NaN         NaN                 NaN   \n",
       "25722         xx        NaN   NaN         NaN                 NaN   \n",
       "\n",
       "                   Area                             Location  Activity  Name  \\\n",
       "6301   Eastern Province  Below the English fort, Trincomalee  Swimming  male   \n",
       "6302                NaN                                  NaN       NaN   NaN   \n",
       "6303                NaN                                  NaN       NaN   NaN   \n",
       "6304                NaN                                  NaN       NaN   NaN   \n",
       "6305                NaN                                  NaN       NaN   NaN   \n",
       "6306                NaN                                  NaN       NaN   NaN   \n",
       "6307                NaN                                  NaN       NaN   NaN   \n",
       "6308                NaN                                  NaN       NaN   NaN   \n",
       "6309                NaN                                  NaN       NaN   NaN   \n",
       "25722               NaN                                  NaN       NaN   NaN   \n",
       "\n",
       "       Sex  ... Species InvestigatororSource                 pdf  \\\n",
       "6301     M  ...     NaN           S.W. Baker  ND-0001-Ceylon.pdf   \n",
       "6302   NaN  ...     NaN                  NaN                 NaN   \n",
       "6303   NaN  ...     NaN                  NaN                 NaN   \n",
       "6304   NaN  ...     NaN                  NaN                 NaN   \n",
       "6305   NaN  ...     NaN                  NaN                 NaN   \n",
       "6306   NaN  ...     NaN                  NaN                 NaN   \n",
       "6307   NaN  ...     NaN                  NaN                 NaN   \n",
       "6308   NaN  ...     NaN                  NaN                 NaN   \n",
       "6309   NaN  ...     NaN                  NaN                 NaN   \n",
       "25722  NaN  ...     NaN                  NaN                 NaN   \n",
       "\n",
       "                                             hrefformula  \\\n",
       "6301   http://sharkattackfile.net/spreadsheets/pdf_di...   \n",
       "6302                                                 NaN   \n",
       "6303                                                 NaN   \n",
       "6304                                                 NaN   \n",
       "6305                                                 NaN   \n",
       "6306                                                 NaN   \n",
       "6307                                                 NaN   \n",
       "6308                                                 NaN   \n",
       "6309                                                 NaN   \n",
       "25722                                                NaN   \n",
       "\n",
       "                                                    href CaseNumber.1  \\\n",
       "6301   http://sharkattackfile.net/spreadsheets/pdf_di...      ND.0001   \n",
       "6302                                                 NaN          NaN   \n",
       "6303                                                 NaN          NaN   \n",
       "6304                                                 NaN          NaN   \n",
       "6305                                                 NaN          NaN   \n",
       "6306                                                 NaN          NaN   \n",
       "6307                                                 NaN          NaN   \n",
       "6308                                                 NaN          NaN   \n",
       "6309                                                 NaN          NaN   \n",
       "25722                                                NaN          NaN   \n",
       "\n",
       "      CaseNumber.2 originalorder Unnamed:22 Unnamed:23  \n",
       "6301       ND.0001           2.0        NaN        NaN  \n",
       "6302           NaN        6304.0        NaN        NaN  \n",
       "6303           NaN        6305.0        NaN        NaN  \n",
       "6304           NaN        6306.0        NaN        NaN  \n",
       "6305           NaN        6307.0        NaN        NaN  \n",
       "6306           NaN        6308.0        NaN        NaN  \n",
       "6307           NaN        6309.0        NaN        NaN  \n",
       "6308           NaN        6310.0        NaN        NaN  \n",
       "6309           NaN           NaN        NaN        NaN  \n",
       "25722          NaN           NaN        NaN        NaN  \n",
       "\n",
       "[10 rows x 24 columns]"
      ]
     },
     "execution_count": 17,
     "metadata": {},
     "output_type": "execute_result"
    }
   ],
   "source": [
    "data.tail(10)"
   ]
  },
  {
   "cell_type": "code",
   "execution_count": 18,
   "id": "e2ef0c64",
   "metadata": {},
   "outputs": [],
   "source": [
    "data.drop([6302, 6303, 6304, 6305,6306,6307, 6308,6309,25722], inplace=True) #borramos aquellas restantes que no son relevantes"
   ]
  },
  {
   "cell_type": "code",
   "execution_count": 19,
   "id": "0637bb1c",
   "metadata": {},
   "outputs": [
    {
     "data": {
      "text/html": [
       "<div>\n",
       "<style scoped>\n",
       "    .dataframe tbody tr th:only-of-type {\n",
       "        vertical-align: middle;\n",
       "    }\n",
       "\n",
       "    .dataframe tbody tr th {\n",
       "        vertical-align: top;\n",
       "    }\n",
       "\n",
       "    .dataframe thead th {\n",
       "        text-align: right;\n",
       "    }\n",
       "</style>\n",
       "<table border=\"1\" class=\"dataframe\">\n",
       "  <thead>\n",
       "    <tr style=\"text-align: right;\">\n",
       "      <th></th>\n",
       "      <th>CaseNumber</th>\n",
       "      <th>Date</th>\n",
       "      <th>Year</th>\n",
       "      <th>Type</th>\n",
       "      <th>Country</th>\n",
       "      <th>Area</th>\n",
       "      <th>Location</th>\n",
       "      <th>Activity</th>\n",
       "      <th>Name</th>\n",
       "      <th>Sex</th>\n",
       "      <th>...</th>\n",
       "      <th>Species</th>\n",
       "      <th>InvestigatororSource</th>\n",
       "      <th>pdf</th>\n",
       "      <th>hrefformula</th>\n",
       "      <th>href</th>\n",
       "      <th>CaseNumber.1</th>\n",
       "      <th>CaseNumber.2</th>\n",
       "      <th>originalorder</th>\n",
       "      <th>Unnamed:22</th>\n",
       "      <th>Unnamed:23</th>\n",
       "    </tr>\n",
       "  </thead>\n",
       "  <tbody>\n",
       "    <tr>\n",
       "      <th>6297</th>\n",
       "      <td>ND.0005</td>\n",
       "      <td>Before 1903</td>\n",
       "      <td>0.0</td>\n",
       "      <td>Unprovoked</td>\n",
       "      <td>AUSTRALIA</td>\n",
       "      <td>Western Australia</td>\n",
       "      <td>Roebuck Bay</td>\n",
       "      <td>Diving</td>\n",
       "      <td>male</td>\n",
       "      <td>M</td>\n",
       "      <td>...</td>\n",
       "      <td>NaN</td>\n",
       "      <td>H. Taunton; N. Bartlett,  p. 234</td>\n",
       "      <td>ND-0005-RoebuckBay.pdf</td>\n",
       "      <td>http://sharkattackfile.net/spreadsheets/pdf_di...</td>\n",
       "      <td>http://sharkattackfile.net/spreadsheets/pdf_di...</td>\n",
       "      <td>ND.0005</td>\n",
       "      <td>ND.0005</td>\n",
       "      <td>6.0</td>\n",
       "      <td>NaN</td>\n",
       "      <td>NaN</td>\n",
       "    </tr>\n",
       "    <tr>\n",
       "      <th>6298</th>\n",
       "      <td>ND.0004</td>\n",
       "      <td>Before 1903</td>\n",
       "      <td>0.0</td>\n",
       "      <td>Unprovoked</td>\n",
       "      <td>AUSTRALIA</td>\n",
       "      <td>Western Australia</td>\n",
       "      <td>NaN</td>\n",
       "      <td>Pearl diving</td>\n",
       "      <td>Ahmun</td>\n",
       "      <td>M</td>\n",
       "      <td>...</td>\n",
       "      <td>NaN</td>\n",
       "      <td>H. Taunton; N. Bartlett,  pp. 233-234</td>\n",
       "      <td>ND-0004-Ahmun.pdf</td>\n",
       "      <td>http://sharkattackfile.net/spreadsheets/pdf_di...</td>\n",
       "      <td>http://sharkattackfile.net/spreadsheets/pdf_di...</td>\n",
       "      <td>ND.0004</td>\n",
       "      <td>ND.0004</td>\n",
       "      <td>5.0</td>\n",
       "      <td>NaN</td>\n",
       "      <td>NaN</td>\n",
       "    </tr>\n",
       "    <tr>\n",
       "      <th>6299</th>\n",
       "      <td>ND.0003</td>\n",
       "      <td>1900-1905</td>\n",
       "      <td>0.0</td>\n",
       "      <td>Unprovoked</td>\n",
       "      <td>USA</td>\n",
       "      <td>North Carolina</td>\n",
       "      <td>Ocracoke Inlet</td>\n",
       "      <td>Swimming</td>\n",
       "      <td>Coast Guard personnel</td>\n",
       "      <td>M</td>\n",
       "      <td>...</td>\n",
       "      <td>NaN</td>\n",
       "      <td>F. Schwartz, p.23; C. Creswell, GSAF</td>\n",
       "      <td>ND-0003-Ocracoke_1900-1905.pdf</td>\n",
       "      <td>http://sharkattackfile.net/spreadsheets/pdf_di...</td>\n",
       "      <td>http://sharkattackfile.net/spreadsheets/pdf_di...</td>\n",
       "      <td>ND.0003</td>\n",
       "      <td>ND.0003</td>\n",
       "      <td>4.0</td>\n",
       "      <td>NaN</td>\n",
       "      <td>NaN</td>\n",
       "    </tr>\n",
       "    <tr>\n",
       "      <th>6300</th>\n",
       "      <td>ND.0002</td>\n",
       "      <td>1883-1889</td>\n",
       "      <td>0.0</td>\n",
       "      <td>Unprovoked</td>\n",
       "      <td>PANAMA</td>\n",
       "      <td>NaN</td>\n",
       "      <td>Panama Bay 8N, 79W</td>\n",
       "      <td>NaN</td>\n",
       "      <td>Jules Patterson</td>\n",
       "      <td>M</td>\n",
       "      <td>...</td>\n",
       "      <td>NaN</td>\n",
       "      <td>The Sun, 10/20/1938</td>\n",
       "      <td>ND-0002-JulesPatterson.pdf</td>\n",
       "      <td>http://sharkattackfile.net/spreadsheets/pdf_di...</td>\n",
       "      <td>http://sharkattackfile.net/spreadsheets/pdf_di...</td>\n",
       "      <td>ND.0002</td>\n",
       "      <td>ND.0002</td>\n",
       "      <td>3.0</td>\n",
       "      <td>NaN</td>\n",
       "      <td>NaN</td>\n",
       "    </tr>\n",
       "    <tr>\n",
       "      <th>6301</th>\n",
       "      <td>ND.0001</td>\n",
       "      <td>1845-1853</td>\n",
       "      <td>0.0</td>\n",
       "      <td>Unprovoked</td>\n",
       "      <td>CEYLON (SRI LANKA)</td>\n",
       "      <td>Eastern Province</td>\n",
       "      <td>Below the English fort, Trincomalee</td>\n",
       "      <td>Swimming</td>\n",
       "      <td>male</td>\n",
       "      <td>M</td>\n",
       "      <td>...</td>\n",
       "      <td>NaN</td>\n",
       "      <td>S.W. Baker</td>\n",
       "      <td>ND-0001-Ceylon.pdf</td>\n",
       "      <td>http://sharkattackfile.net/spreadsheets/pdf_di...</td>\n",
       "      <td>http://sharkattackfile.net/spreadsheets/pdf_di...</td>\n",
       "      <td>ND.0001</td>\n",
       "      <td>ND.0001</td>\n",
       "      <td>2.0</td>\n",
       "      <td>NaN</td>\n",
       "      <td>NaN</td>\n",
       "    </tr>\n",
       "  </tbody>\n",
       "</table>\n",
       "<p>5 rows × 24 columns</p>\n",
       "</div>"
      ],
      "text/plain": [
       "     CaseNumber         Date  Year        Type             Country  \\\n",
       "6297    ND.0005  Before 1903   0.0  Unprovoked           AUSTRALIA   \n",
       "6298    ND.0004  Before 1903   0.0  Unprovoked           AUSTRALIA   \n",
       "6299    ND.0003    1900-1905   0.0  Unprovoked                 USA   \n",
       "6300    ND.0002    1883-1889   0.0  Unprovoked              PANAMA   \n",
       "6301    ND.0001    1845-1853   0.0  Unprovoked  CEYLON (SRI LANKA)   \n",
       "\n",
       "                   Area                             Location      Activity  \\\n",
       "6297  Western Australia                          Roebuck Bay        Diving   \n",
       "6298  Western Australia                                  NaN  Pearl diving   \n",
       "6299     North Carolina                       Ocracoke Inlet      Swimming   \n",
       "6300                NaN                   Panama Bay 8N, 79W           NaN   \n",
       "6301   Eastern Province  Below the English fort, Trincomalee      Swimming   \n",
       "\n",
       "                       Name Sex  ... Species  \\\n",
       "6297                   male   M  ...     NaN   \n",
       "6298                  Ahmun   M  ...     NaN   \n",
       "6299  Coast Guard personnel   M  ...     NaN   \n",
       "6300        Jules Patterson   M  ...     NaN   \n",
       "6301                   male   M  ...     NaN   \n",
       "\n",
       "                       InvestigatororSource                             pdf  \\\n",
       "6297       H. Taunton; N. Bartlett,  p. 234          ND-0005-RoebuckBay.pdf   \n",
       "6298  H. Taunton; N. Bartlett,  pp. 233-234               ND-0004-Ahmun.pdf   \n",
       "6299   F. Schwartz, p.23; C. Creswell, GSAF  ND-0003-Ocracoke_1900-1905.pdf   \n",
       "6300                    The Sun, 10/20/1938      ND-0002-JulesPatterson.pdf   \n",
       "6301                             S.W. Baker              ND-0001-Ceylon.pdf   \n",
       "\n",
       "                                            hrefformula  \\\n",
       "6297  http://sharkattackfile.net/spreadsheets/pdf_di...   \n",
       "6298  http://sharkattackfile.net/spreadsheets/pdf_di...   \n",
       "6299  http://sharkattackfile.net/spreadsheets/pdf_di...   \n",
       "6300  http://sharkattackfile.net/spreadsheets/pdf_di...   \n",
       "6301  http://sharkattackfile.net/spreadsheets/pdf_di...   \n",
       "\n",
       "                                                   href CaseNumber.1  \\\n",
       "6297  http://sharkattackfile.net/spreadsheets/pdf_di...      ND.0005   \n",
       "6298  http://sharkattackfile.net/spreadsheets/pdf_di...      ND.0004   \n",
       "6299  http://sharkattackfile.net/spreadsheets/pdf_di...      ND.0003   \n",
       "6300  http://sharkattackfile.net/spreadsheets/pdf_di...      ND.0002   \n",
       "6301  http://sharkattackfile.net/spreadsheets/pdf_di...      ND.0001   \n",
       "\n",
       "     CaseNumber.2 originalorder Unnamed:22 Unnamed:23  \n",
       "6297      ND.0005           6.0        NaN        NaN  \n",
       "6298      ND.0004           5.0        NaN        NaN  \n",
       "6299      ND.0003           4.0        NaN        NaN  \n",
       "6300      ND.0002           3.0        NaN        NaN  \n",
       "6301      ND.0001           2.0        NaN        NaN  \n",
       "\n",
       "[5 rows x 24 columns]"
      ]
     },
     "execution_count": 19,
     "metadata": {},
     "output_type": "execute_result"
    }
   ],
   "source": [
    "data.tail()"
   ]
  },
  {
   "cell_type": "markdown",
   "id": "8904d6fe",
   "metadata": {},
   "source": [
    "# Limpieza de la columna Area"
   ]
  },
  {
   "cell_type": "code",
   "execution_count": 20,
   "id": "ceaf1ad0",
   "metadata": {},
   "outputs": [],
   "source": [
    "# Vamos a reemplazar aquellos valores nulos de la columna Area por \"somewhere in\" + \"Country\"\n",
    "data['Area'] = data['Area'].fillna('somewhere in ' + data['Country'].astype(str))"
   ]
  },
  {
   "cell_type": "markdown",
   "id": "0bd70a80",
   "metadata": {},
   "source": [
    "\n",
    "# Limpieza columna Fatal(Y/N)\n"
   ]
  },
  {
   "cell_type": "code",
   "execution_count": 21,
   "id": "66263c02",
   "metadata": {},
   "outputs": [],
   "source": [
    "data['Fatal(Y/N)'] = data['Fatal(Y/N)'].astype(str)    #cambio el tipo de la columna a string\n",
    "data['Injury'] = data['Injury'].astype(str)            \n"
   ]
  },
  {
   "cell_type": "code",
   "execution_count": 22,
   "id": "36215a0a",
   "metadata": {},
   "outputs": [],
   "source": [
    "# Si la palabra \"FATAl\" se encuentra en la columna Injury se rellenaran los valores nulos con Y, sino se pondrá N\n",
    "data['Fatal(Y/N)'] = data.apply(lambda x: \"Y\" if \"FATAL\" in x['Injury'] else \"N\" if pd.isnull(x['Fatal(Y/N)']) else x['Fatal(Y/N)'], axis=1)\n"
   ]
  },
  {
   "cell_type": "markdown",
   "id": "3ff05ca7",
   "metadata": {},
   "source": [
    "# Limpieza columna Location"
   ]
  },
  {
   "cell_type": "code",
   "execution_count": 23,
   "id": "2f6baaf5",
   "metadata": {},
   "outputs": [],
   "source": [
    "# Rellenamos rellenamos los valores nulos de la columna Location con los valores de Area\n",
    "data['Location'].fillna(data['Area'], inplace=True)\n"
   ]
  },
  {
   "cell_type": "markdown",
   "id": "2f354329",
   "metadata": {},
   "source": [
    "# Limpieza columna Country"
   ]
  },
  {
   "cell_type": "code",
   "execution_count": 24,
   "id": "a52ba4d0",
   "metadata": {},
   "outputs": [],
   "source": [
    "# Rellenamos los valores nulos de Country con \"Unknown\"\n",
    "data['Country'] = data['Country'].fillna('unknown')"
   ]
  },
  {
   "cell_type": "markdown",
   "id": "8c18a66d",
   "metadata": {},
   "source": [
    "# Limpieza columna Sex"
   ]
  },
  {
   "cell_type": "code",
   "execution_count": 25,
   "id": "776905a2",
   "metadata": {},
   "outputs": [
    {
     "data": {
      "text/plain": [
       "M      5094\n",
       "F       637\n",
       "M         2\n",
       "N         2\n",
       "lli       1\n",
       ".         1\n",
       "Name: Sex, dtype: int64"
      ]
     },
     "execution_count": 25,
     "metadata": {},
     "output_type": "execute_result"
    }
   ],
   "source": [
    "# Contar el número de veces que se repite de cada valor en la columna 'Sex'\n",
    "conteo_sexo = data['Sex'].value_counts()\n",
    "conteo_sexo"
   ]
  },
  {
   "cell_type": "code",
   "execution_count": 26,
   "id": "91e27c88",
   "metadata": {},
   "outputs": [
    {
     "data": {
      "text/plain": [
       "['M ', 'N', 'lli', '.']"
      ]
     },
     "execution_count": 26,
     "metadata": {},
     "output_type": "execute_result"
    }
   ],
   "source": [
    "# Obtener los valores de la columna Sex que aparecen menos de tres veces\n",
    "valores_filtrados_sexo = conteo_sexo[conteo_sexo < 3].index.tolist()\n",
    "valores_filtrados_sexo"
   ]
  },
  {
   "cell_type": "code",
   "execution_count": 27,
   "id": "d7d65131",
   "metadata": {},
   "outputs": [],
   "source": [
    "# Reemplazar los valores que aparecen menos de tres veces por 'unknown'\n",
    "data['Sex'] = data['Sex'].replace(valores_filtrados_sexo, 'unknown')"
   ]
  },
  {
   "cell_type": "code",
   "execution_count": 28,
   "id": "8c02d3cc",
   "metadata": {},
   "outputs": [],
   "source": [
    "# Rellenamos los valores nulos de Sex con \"Unknown\"\n",
    "data['Sex'] = data['Sex'].fillna('unknown')"
   ]
  },
  {
   "cell_type": "code",
   "execution_count": 29,
   "id": "3cfa830a",
   "metadata": {},
   "outputs": [
    {
     "data": {
      "text/plain": [
       "M          5094\n",
       "F           637\n",
       "unknown     571\n",
       "Name: Sex, dtype: int64"
      ]
     },
     "execution_count": 29,
     "metadata": {},
     "output_type": "execute_result"
    }
   ],
   "source": [
    "data.Sex.value_counts()"
   ]
  },
  {
   "cell_type": "markdown",
   "id": "5a392ff2",
   "metadata": {},
   "source": [
    "# Limpieza columna Activity"
   ]
  },
  {
   "cell_type": "code",
   "execution_count": 30,
   "id": "01314c0e",
   "metadata": {},
   "outputs": [
    {
     "data": {
      "text/plain": [
       "Surfing         971\n",
       "Swimming        869\n",
       "Fishing         431\n",
       "Spearfishing    333\n",
       "Bathing         162\n",
       "Wading          149\n",
       "Diving          127\n",
       "Standing         99\n",
       "Snorkeling       89\n",
       "Scuba diving     76\n",
       "Name: Activity, dtype: int64"
      ]
     },
     "execution_count": 30,
     "metadata": {},
     "output_type": "execute_result"
    }
   ],
   "source": [
    "data.Activity.value_counts().head(10)"
   ]
  },
  {
   "cell_type": "code",
   "execution_count": 31,
   "id": "dc60dcee",
   "metadata": {},
   "outputs": [
    {
     "name": "stderr",
     "output_type": "stream",
     "text": [
      "C:\\Users\\javir\\AppData\\Local\\Temp\\ipykernel_12220\\322949044.py:8: SettingWithCopyWarning: \n",
      "A value is trying to be set on a copy of a slice from a DataFrame\n",
      "\n",
      "See the caveats in the documentation: https://pandas.pydata.org/pandas-docs/stable/user_guide/indexing.html#returning-a-view-versus-a-copy\n",
      "  data['Activity'].iloc[i] = reemplazos[palabra]\n"
     ]
    }
   ],
   "source": [
    "# Tenemos demasiadas subcategorías, las cuales podrían sintetizarse en algunas categorías más generales\n",
    "reemplazos = {'surf': 'Surfing', 'swim': 'Swimming', 'fishing': 'Fishing', 'spearfish': 'Spearfishing', 'bath': 'Bathing', 'wade': 'Wading', 'dive': 'Diving', 'stand': 'Standing', 'snorkel': 'Snorkeling'}\n",
    "\n",
    "for i in range(len(data['Activity'])):\n",
    "    if isinstance(data['Activity'].iloc[i], str):\n",
    "        for palabra in reemplazos:\n",
    "            if palabra in data['Activity'].iloc[i]:\n",
    "                data['Activity'].iloc[i] = reemplazos[palabra]\n",
    "                break\n",
    "\n",
    "data['Activity'] = data['Activity'].replace(reemplazos.values(), reemplazos.keys())\n",
    "\n",
    "\n"
   ]
  },
  {
   "cell_type": "code",
   "execution_count": 32,
   "id": "8124f0e7",
   "metadata": {},
   "outputs": [
    {
     "data": {
      "text/plain": [
       "surf             1160\n",
       "fishing           962\n",
       "swim              912\n",
       "bath              169\n",
       "wade              149\n",
       "dive              139\n",
       "stand             114\n",
       "snorkel            94\n",
       "Scuba diving       76\n",
       "Body boarding      61\n",
       "Name: Activity, dtype: int64"
      ]
     },
     "execution_count": 32,
     "metadata": {},
     "output_type": "execute_result"
    }
   ],
   "source": [
    "data.Activity.value_counts().head(10)"
   ]
  },
  {
   "cell_type": "code",
   "execution_count": 33,
   "id": "977ec8cc",
   "metadata": {},
   "outputs": [],
   "source": [
    "data['Activity'] = data['Activity'].fillna('unknown') #rellenamos los nulos con unknown"
   ]
  },
  {
   "cell_type": "markdown",
   "id": "cd836d06",
   "metadata": {},
   "source": [
    "# Limpieza columna Date"
   ]
  },
  {
   "cell_type": "code",
   "execution_count": 34,
   "id": "46eff8e7",
   "metadata": {},
   "outputs": [],
   "source": [
    "# Convertir la columna a formato de fecha y hora\n",
    "data[\"CaseNumber\"] = pd.to_datetime(data[\"CaseNumber\"], errors='coerce')\n",
    "\n",
    "# rellenar los valores nulos con el valor más reciente\n",
    "data[\"CaseNumber\"].fillna(method=\"ffill\", inplace=True)\n",
    "\n",
    "# Convertir la fecha a un formato estándar\n",
    "data[\"Date\"] = data[\"CaseNumber\"].apply(lambda x: x.strftime(\"%Y-%m-%d %H:%M:%S\"))"
   ]
  },
  {
   "cell_type": "markdown",
   "id": "2b59ffef",
   "metadata": {},
   "source": [
    "# Limpieza columnas Unnamed"
   ]
  },
  {
   "cell_type": "code",
   "execution_count": 35,
   "id": "8ac0f595",
   "metadata": {},
   "outputs": [],
   "source": [
    "data['Unnamed:22'] = data['Unnamed:22'].fillna('unnamed')"
   ]
  },
  {
   "cell_type": "code",
   "execution_count": 36,
   "id": "8bafb231",
   "metadata": {},
   "outputs": [],
   "source": [
    "data['Unnamed:23'] = data['Unnamed:23'].fillna('unnamed')"
   ]
  },
  {
   "cell_type": "markdown",
   "id": "5ae46bf0",
   "metadata": {},
   "source": [
    "# Limpieza columna Investigator or Source"
   ]
  },
  {
   "cell_type": "code",
   "execution_count": 37,
   "id": "071bd76c",
   "metadata": {},
   "outputs": [],
   "source": [
    "data['InvestigatororSource'] = data['InvestigatororSource'].fillna('unknown')"
   ]
  },
  {
   "cell_type": "markdown",
   "id": "c328f1c3",
   "metadata": {},
   "source": [
    "# Limpieza columna Edad"
   ]
  },
  {
   "cell_type": "code",
   "execution_count": 38,
   "id": "9e601e8f",
   "metadata": {},
   "outputs": [
    {
     "name": "stdout",
     "output_type": "stream",
     "text": [
      "La mediana de las edades es: 24.0\n"
     ]
    }
   ],
   "source": [
    "data['Age'] = pd.to_numeric(data['Age'], errors='coerce') #Pasamos todos los números a numéricos\n",
    "                                                          #convertimos a nulos aquellos valores que no sean números\n",
    "# Calcular la mediana de la columna 'Edad'\n",
    "mediana = data['Age'].median()\n",
    "\n",
    "print(\"La mediana de las edades es:\", mediana)\n"
   ]
  },
  {
   "cell_type": "markdown",
   "id": "daa88d30",
   "metadata": {},
   "source": [
    "# Limpieza columna Time"
   ]
  },
  {
   "cell_type": "code",
   "execution_count": 39,
   "id": "2edf6b4a",
   "metadata": {},
   "outputs": [
    {
     "name": "stdout",
     "output_type": "stream",
     "text": [
      "La moda de la columna \"Time\" es: 0    Afternoon\n",
      "Name: Time, dtype: object\n"
     ]
    }
   ],
   "source": [
    "# Calcular la moda de la columna \"edad\"\n",
    "moda = data['Time'].mode()\n",
    "\n",
    "# Imprimir la moda\n",
    "print('La moda de la columna \"Time\" es:', moda)"
   ]
  },
  {
   "cell_type": "markdown",
   "id": "cebe5f11",
   "metadata": {},
   "source": [
    "# Limpieza columna Species"
   ]
  },
  {
   "cell_type": "code",
   "execution_count": 40,
   "id": "0e51d7cc",
   "metadata": {},
   "outputs": [
    {
     "name": "stdout",
     "output_type": "stream",
     "text": [
      "La moda de la columna \"Species\" es: 0    White shark\n",
      "Name: Species, dtype: object\n"
     ]
    }
   ],
   "source": [
    "# Calcular la moda de la columna \"edad\"\n",
    "moda = data['Species'].mode()\n",
    "\n",
    "# Imprimir la moda\n",
    "print('La moda de la columna \"Species\" es:', moda)"
   ]
  },
  {
   "cell_type": "markdown",
   "id": "75a5a5d7",
   "metadata": {},
   "source": [
    "# Limpieza columna Type"
   ]
  },
  {
   "cell_type": "code",
   "execution_count": 41,
   "id": "b147b863",
   "metadata": {},
   "outputs": [
    {
     "data": {
      "text/plain": [
       "Unprovoked      4595\n",
       "Provoked         574\n",
       "Invalid          547\n",
       "Sea Disaster     239\n",
       "Boating          203\n",
       "Boat             137\n",
       "Questionable       2\n",
       "Boatomg            1\n",
       "Name: Type, dtype: int64"
      ]
     },
     "execution_count": 41,
     "metadata": {},
     "output_type": "execute_result"
    }
   ],
   "source": [
    "data.Type.value_counts()"
   ]
  },
  {
   "cell_type": "code",
   "execution_count": 42,
   "id": "7bed65cc",
   "metadata": {},
   "outputs": [
    {
     "name": "stderr",
     "output_type": "stream",
     "text": [
      "C:\\Users\\javir\\AppData\\Local\\Temp\\ipykernel_12220\\1012008313.py:7: SettingWithCopyWarning: \n",
      "A value is trying to be set on a copy of a slice from a DataFrame\n",
      "\n",
      "See the caveats in the documentation: https://pandas.pydata.org/pandas-docs/stable/user_guide/indexing.html#returning-a-view-versus-a-copy\n",
      "  data['Type'][i] = 'Accidents'\n",
      "C:\\Users\\javir\\AppData\\Local\\Temp\\ipykernel_12220\\1012008313.py:5: SettingWithCopyWarning: \n",
      "A value is trying to be set on a copy of a slice from a DataFrame\n",
      "\n",
      "See the caveats in the documentation: https://pandas.pydata.org/pandas-docs/stable/user_guide/indexing.html#returning-a-view-versus-a-copy\n",
      "  data['Type'][i] = 'Attacks'\n",
      "C:\\Users\\javir\\AppData\\Local\\Temp\\ipykernel_12220\\1012008313.py:9: SettingWithCopyWarning: \n",
      "A value is trying to be set on a copy of a slice from a DataFrame\n",
      "\n",
      "See the caveats in the documentation: https://pandas.pydata.org/pandas-docs/stable/user_guide/indexing.html#returning-a-view-versus-a-copy\n",
      "  data['Type'][i] = 'Unknown'\n"
     ]
    }
   ],
   "source": [
    "# categorizamos en 3 tipos de columnas: Attacks, Accidents, Unknown\n",
    "for i in range(len(data['Type'])):\n",
    "    if data['Type'][i] in ['Questionable', 'Boatomg']:\n",
    "        pass\n",
    "    elif data['Type'][i] in ['Unprovoked', 'Provoked']:\n",
    "        data['Type'][i] = 'Attacks'\n",
    "    elif data['Type'][i] in ['Sea Disaster', 'Boating']:\n",
    "        data['Type'][i] = 'Accidents'\n",
    "    else:\n",
    "        data['Type'][i] = 'Unknown'\n"
   ]
  },
  {
   "cell_type": "code",
   "execution_count": 43,
   "id": "9a2321d8",
   "metadata": {},
   "outputs": [],
   "source": [
    "conteo_type= data.Type.value_counts()"
   ]
  },
  {
   "cell_type": "code",
   "execution_count": 44,
   "id": "cbb3f0ae",
   "metadata": {},
   "outputs": [],
   "source": [
    "# Rellenamos los valores nulos de Sex con \"Unknown\"\n",
    "valores_filtrados_type = conteo_type[conteo_type < 3].index.tolist()\n",
    "data.loc[data['Type'].isin(valores_filtrados_type), 'Type'] = 'unknown'\n"
   ]
  },
  {
   "cell_type": "code",
   "execution_count": 45,
   "id": "fb69081c",
   "metadata": {},
   "outputs": [
    {
     "data": {
      "text/plain": [
       "Attacks      5169\n",
       "Unknown       688\n",
       "Accidents     442\n",
       "unknown         3\n",
       "Name: Type, dtype: int64"
      ]
     },
     "execution_count": 45,
     "metadata": {},
     "output_type": "execute_result"
    }
   ],
   "source": [
    "data.Type.value_counts()"
   ]
  },
  {
   "cell_type": "markdown",
   "id": "552b76b5",
   "metadata": {},
   "source": [
    "# Resto de columnas"
   ]
  },
  {
   "cell_type": "code",
   "execution_count": 46,
   "id": "8a35f951",
   "metadata": {},
   "outputs": [],
   "source": [
    "data['Name'] = data['Name'].fillna('unknown')"
   ]
  },
  {
   "cell_type": "code",
   "execution_count": 47,
   "id": "2016e21c",
   "metadata": {},
   "outputs": [],
   "source": [
    "data['Age'] = data['Age'].fillna('-1')"
   ]
  },
  {
   "cell_type": "code",
   "execution_count": 48,
   "id": "dafbf438",
   "metadata": {},
   "outputs": [],
   "source": [
    "data['Time'] = data['Time'].fillna('-1')"
   ]
  },
  {
   "cell_type": "code",
   "execution_count": 49,
   "id": "0ef0837e",
   "metadata": {},
   "outputs": [],
   "source": [
    "data['Species'] = data['Species'].fillna('unknown')"
   ]
  },
  {
   "cell_type": "code",
   "execution_count": 50,
   "id": "d73482e7",
   "metadata": {},
   "outputs": [
    {
     "data": {
      "image/png": "[encoded data removed]",
      "text/plain": [
       "<Figure size 1000x600 with 1 Axes>"
      ]
     },
     "metadata": {},
     "output_type": "display_data"
    }
   ],
   "source": [
    "check_nan(data)"
   ]
  },
  {
   "cell_type": "markdown",
   "id": "8a4076d6",
   "metadata": {},
   "source": [
    "\n"
   ]
  },
  {
   "cell_type": "code",
   "execution_count": 53,
   "id": "4fc307d1",
   "metadata": {},
   "outputs": [
    {
     "data": {
      "text/html": [
       "<div>\n",
       "<style scoped>\n",
       "    .dataframe tbody tr th:only-of-type {\n",
       "        vertical-align: middle;\n",
       "    }\n",
       "\n",
       "    .dataframe tbody tr th {\n",
       "        vertical-align: top;\n",
       "    }\n",
       "\n",
       "    .dataframe thead th {\n",
       "        text-align: right;\n",
       "    }\n",
       "</style>\n",
       "<table border=\"1\" class=\"dataframe\">\n",
       "  <thead>\n",
       "    <tr style=\"text-align: right;\">\n",
       "      <th></th>\n",
       "      <th>CaseNumber</th>\n",
       "      <th>Date</th>\n",
       "      <th>Year</th>\n",
       "      <th>Type</th>\n",
       "      <th>Country</th>\n",
       "      <th>Area</th>\n",
       "      <th>Location</th>\n",
       "      <th>Activity</th>\n",
       "      <th>Name</th>\n",
       "      <th>Sex</th>\n",
       "      <th>...</th>\n",
       "      <th>Species</th>\n",
       "      <th>InvestigatororSource</th>\n",
       "      <th>pdf</th>\n",
       "      <th>hrefformula</th>\n",
       "      <th>href</th>\n",
       "      <th>CaseNumber.1</th>\n",
       "      <th>CaseNumber.2</th>\n",
       "      <th>originalorder</th>\n",
       "      <th>Unnamed:22</th>\n",
       "      <th>Unnamed:23</th>\n",
       "    </tr>\n",
       "  </thead>\n",
       "  <tbody>\n",
       "    <tr>\n",
       "      <th>0</th>\n",
       "      <td>2018-06-25</td>\n",
       "      <td>2018-06-25 00:00:00</td>\n",
       "      <td>2018.0</td>\n",
       "      <td>Accidents</td>\n",
       "      <td>USA</td>\n",
       "      <td>California</td>\n",
       "      <td>Oceanside, San Diego County</td>\n",
       "      <td>Paddling</td>\n",
       "      <td>Julie Wolfe</td>\n",
       "      <td>F</td>\n",
       "      <td>...</td>\n",
       "      <td>White shark</td>\n",
       "      <td>R. Collier, GSAF</td>\n",
       "      <td>2018.06.25-Wolfe.pdf</td>\n",
       "      <td>http://sharkattackfile.net/spreadsheets/pdf_di...</td>\n",
       "      <td>http://sharkattackfile.net/spreadsheets/pdf_di...</td>\n",
       "      <td>2018.06.25</td>\n",
       "      <td>2018.06.25</td>\n",
       "      <td>6303.0</td>\n",
       "      <td>unnamed</td>\n",
       "      <td>unnamed</td>\n",
       "    </tr>\n",
       "    <tr>\n",
       "      <th>1</th>\n",
       "      <td>2018-06-18</td>\n",
       "      <td>2018-06-18 00:00:00</td>\n",
       "      <td>2018.0</td>\n",
       "      <td>Attacks</td>\n",
       "      <td>USA</td>\n",
       "      <td>Georgia</td>\n",
       "      <td>St. Simon Island, Glynn County</td>\n",
       "      <td>stand</td>\n",
       "      <td>AdysonMcNeely</td>\n",
       "      <td>F</td>\n",
       "      <td>...</td>\n",
       "      <td>unknown</td>\n",
       "      <td>K.McMurray, TrackingSharks.com</td>\n",
       "      <td>2018.06.18-McNeely.pdf</td>\n",
       "      <td>http://sharkattackfile.net/spreadsheets/pdf_di...</td>\n",
       "      <td>http://sharkattackfile.net/spreadsheets/pdf_di...</td>\n",
       "      <td>2018.06.18</td>\n",
       "      <td>2018.06.18</td>\n",
       "      <td>6302.0</td>\n",
       "      <td>unnamed</td>\n",
       "      <td>unnamed</td>\n",
       "    </tr>\n",
       "    <tr>\n",
       "      <th>2</th>\n",
       "      <td>2018-06-09</td>\n",
       "      <td>2018-06-09 00:00:00</td>\n",
       "      <td>2018.0</td>\n",
       "      <td>Unknown</td>\n",
       "      <td>USA</td>\n",
       "      <td>Hawaii</td>\n",
       "      <td>Habush, Oahu</td>\n",
       "      <td>surf</td>\n",
       "      <td>John Denges</td>\n",
       "      <td>M</td>\n",
       "      <td>...</td>\n",
       "      <td>unknown</td>\n",
       "      <td>K.McMurray, TrackingSharks.com</td>\n",
       "      <td>2018.06.09-Denges.pdf</td>\n",
       "      <td>http://sharkattackfile.net/spreadsheets/pdf_di...</td>\n",
       "      <td>http://sharkattackfile.net/spreadsheets/pdf_di...</td>\n",
       "      <td>2018.06.09</td>\n",
       "      <td>2018.06.09</td>\n",
       "      <td>6301.0</td>\n",
       "      <td>unnamed</td>\n",
       "      <td>unnamed</td>\n",
       "    </tr>\n",
       "    <tr>\n",
       "      <th>3</th>\n",
       "      <td>2018-06-08</td>\n",
       "      <td>2018-06-08 00:00:00</td>\n",
       "      <td>2018.0</td>\n",
       "      <td>Attacks</td>\n",
       "      <td>AUSTRALIA</td>\n",
       "      <td>New South Wales</td>\n",
       "      <td>Arrawarra Headland</td>\n",
       "      <td>surf</td>\n",
       "      <td>male</td>\n",
       "      <td>M</td>\n",
       "      <td>...</td>\n",
       "      <td>2 m shark</td>\n",
       "      <td>B. Myatt, GSAF</td>\n",
       "      <td>2018.06.08-Arrawarra.pdf</td>\n",
       "      <td>http://sharkattackfile.net/spreadsheets/pdf_di...</td>\n",
       "      <td>http://sharkattackfile.net/spreadsheets/pdf_di...</td>\n",
       "      <td>2018.06.08</td>\n",
       "      <td>2018.06.08</td>\n",
       "      <td>6300.0</td>\n",
       "      <td>unnamed</td>\n",
       "      <td>unnamed</td>\n",
       "    </tr>\n",
       "    <tr>\n",
       "      <th>4</th>\n",
       "      <td>2018-06-04</td>\n",
       "      <td>2018-06-04 00:00:00</td>\n",
       "      <td>2018.0</td>\n",
       "      <td>Attacks</td>\n",
       "      <td>MEXICO</td>\n",
       "      <td>Colima</td>\n",
       "      <td>La Ticla</td>\n",
       "      <td>Free diving</td>\n",
       "      <td>Gustavo Ramos</td>\n",
       "      <td>M</td>\n",
       "      <td>...</td>\n",
       "      <td>Tiger shark, 3m</td>\n",
       "      <td>A .Kipper</td>\n",
       "      <td>2018.06.04-Ramos.pdf</td>\n",
       "      <td>http://sharkattackfile.net/spreadsheets/pdf_di...</td>\n",
       "      <td>http://sharkattackfile.net/spreadsheets/pdf_di...</td>\n",
       "      <td>2018.06.04</td>\n",
       "      <td>2018.06.04</td>\n",
       "      <td>6299.0</td>\n",
       "      <td>unnamed</td>\n",
       "      <td>unnamed</td>\n",
       "    </tr>\n",
       "    <tr>\n",
       "      <th>5</th>\n",
       "      <td>2018-06-04</td>\n",
       "      <td>2018-06-04 00:00:00</td>\n",
       "      <td>2018.0</td>\n",
       "      <td>Attacks</td>\n",
       "      <td>AUSTRALIA</td>\n",
       "      <td>New South Wales</td>\n",
       "      <td>Flat Rock, Ballina</td>\n",
       "      <td>surf</td>\n",
       "      <td>Chris</td>\n",
       "      <td>M</td>\n",
       "      <td>...</td>\n",
       "      <td>unknown</td>\n",
       "      <td>Daily Telegraph, 6/4/2018</td>\n",
       "      <td>2018.06.03.b-FlatRock.pdf</td>\n",
       "      <td>http://sharkattackfile.net/spreadsheets/pdf_di...</td>\n",
       "      <td>http://sharkattackfile.net/spreadsheets/pdf_di...</td>\n",
       "      <td>2018.06.03.b</td>\n",
       "      <td>2018.06.03.b</td>\n",
       "      <td>6298.0</td>\n",
       "      <td>unnamed</td>\n",
       "      <td>unnamed</td>\n",
       "    </tr>\n",
       "    <tr>\n",
       "      <th>6</th>\n",
       "      <td>2018-06-04</td>\n",
       "      <td>2018-06-04 00:00:00</td>\n",
       "      <td>2018.0</td>\n",
       "      <td>Attacks</td>\n",
       "      <td>BRAZIL</td>\n",
       "      <td>Pernambuco</td>\n",
       "      <td>Piedade Beach, Recife</td>\n",
       "      <td>swim</td>\n",
       "      <td>Jose Ernesto da Silva</td>\n",
       "      <td>M</td>\n",
       "      <td>...</td>\n",
       "      <td>Tiger shark</td>\n",
       "      <td>Diario de Pernambuco, 6/4/2018</td>\n",
       "      <td>2018.06.03.a-daSilva.pdf</td>\n",
       "      <td>http://sharkattackfile.net/spreadsheets/pdf_di...</td>\n",
       "      <td>http://sharkattackfile.net/spreadsheets/pdf_di...</td>\n",
       "      <td>2018.06.03.a</td>\n",
       "      <td>2018.06.03.a</td>\n",
       "      <td>6297.0</td>\n",
       "      <td>unnamed</td>\n",
       "      <td>unnamed</td>\n",
       "    </tr>\n",
       "    <tr>\n",
       "      <th>7</th>\n",
       "      <td>2018-05-27</td>\n",
       "      <td>2018-05-27 00:00:00</td>\n",
       "      <td>2018.0</td>\n",
       "      <td>Attacks</td>\n",
       "      <td>USA</td>\n",
       "      <td>Florida</td>\n",
       "      <td>Lighhouse Point Park, Ponce Inlet, Volusia County</td>\n",
       "      <td>fishing</td>\n",
       "      <td>male</td>\n",
       "      <td>M</td>\n",
       "      <td>...</td>\n",
       "      <td>Lemon shark, 3'</td>\n",
       "      <td>K. McMurray, TrackingSharks.com</td>\n",
       "      <td>2018.05.27-Ponce.pdf</td>\n",
       "      <td>http://sharkattackfile.net/spreadsheets/pdf_di...</td>\n",
       "      <td>http://sharkattackfile.net/spreadsheets/pdf_di...</td>\n",
       "      <td>2018.05.27</td>\n",
       "      <td>2018.05.27</td>\n",
       "      <td>6296.0</td>\n",
       "      <td>unnamed</td>\n",
       "      <td>unnamed</td>\n",
       "    </tr>\n",
       "    <tr>\n",
       "      <th>8</th>\n",
       "      <td>2018-05-27</td>\n",
       "      <td>2018-05-27 00:00:00</td>\n",
       "      <td>2018.0</td>\n",
       "      <td>Attacks</td>\n",
       "      <td>USA</td>\n",
       "      <td>Florida</td>\n",
       "      <td>Cocoa Beach, Brevard  County</td>\n",
       "      <td>Walking</td>\n",
       "      <td>Cody High</td>\n",
       "      <td>M</td>\n",
       "      <td>...</td>\n",
       "      <td>Bull shark, 6'</td>\n",
       "      <td>K.McMurray, TrackingSharks.com</td>\n",
       "      <td>2018.05.26.b-High.pdf</td>\n",
       "      <td>http://sharkattackfile.net/spreadsheets/pdf_di...</td>\n",
       "      <td>http://sharkattackfile.net/spreadsheets/pdf_di...</td>\n",
       "      <td>2018.05.26.b</td>\n",
       "      <td>2018.05.26.b</td>\n",
       "      <td>6295.0</td>\n",
       "      <td>unnamed</td>\n",
       "      <td>unnamed</td>\n",
       "    </tr>\n",
       "    <tr>\n",
       "      <th>9</th>\n",
       "      <td>2018-05-27</td>\n",
       "      <td>2018-05-27 00:00:00</td>\n",
       "      <td>2018.0</td>\n",
       "      <td>Attacks</td>\n",
       "      <td>USA</td>\n",
       "      <td>Florida</td>\n",
       "      <td>Daytona Beach, Volusia County</td>\n",
       "      <td>stand</td>\n",
       "      <td>male</td>\n",
       "      <td>M</td>\n",
       "      <td>...</td>\n",
       "      <td>unknown</td>\n",
       "      <td>K. McMurray, Tracking Sharks.com</td>\n",
       "      <td>2018.05.26.a-DaytonaBeach.pdf</td>\n",
       "      <td>http://sharkattackfile.net/spreadsheets/pdf_di...</td>\n",
       "      <td>http://sharkattackfile.net/spreadsheets/pdf_di...</td>\n",
       "      <td>2018.05.26.a</td>\n",
       "      <td>2018.05.26.a</td>\n",
       "      <td>6294.0</td>\n",
       "      <td>unnamed</td>\n",
       "      <td>unnamed</td>\n",
       "    </tr>\n",
       "  </tbody>\n",
       "</table>\n",
       "<p>10 rows × 24 columns</p>\n",
       "</div>"
      ],
      "text/plain": [
       "  CaseNumber                 Date    Year       Type    Country  \\\n",
       "0 2018-06-25  2018-06-25 00:00:00  2018.0  Accidents        USA   \n",
       "1 2018-06-18  2018-06-18 00:00:00  2018.0    Attacks        USA   \n",
       "2 2018-06-09  2018-06-09 00:00:00  2018.0    Unknown        USA   \n",
       "3 2018-06-08  2018-06-08 00:00:00  2018.0    Attacks  AUSTRALIA   \n",
       "4 2018-06-04  2018-06-04 00:00:00  2018.0    Attacks     MEXICO   \n",
       "5 2018-06-04  2018-06-04 00:00:00  2018.0    Attacks  AUSTRALIA   \n",
       "6 2018-06-04  2018-06-04 00:00:00  2018.0    Attacks     BRAZIL   \n",
       "7 2018-05-27  2018-05-27 00:00:00  2018.0    Attacks        USA   \n",
       "8 2018-05-27  2018-05-27 00:00:00  2018.0    Attacks        USA   \n",
       "9 2018-05-27  2018-05-27 00:00:00  2018.0    Attacks        USA   \n",
       "\n",
       "              Area                                           Location  \\\n",
       "0       California                        Oceanside, San Diego County   \n",
       "1          Georgia                     St. Simon Island, Glynn County   \n",
       "2           Hawaii                                       Habush, Oahu   \n",
       "3  New South Wales                                 Arrawarra Headland   \n",
       "4           Colima                                           La Ticla   \n",
       "5  New South Wales                                 Flat Rock, Ballina   \n",
       "6       Pernambuco                              Piedade Beach, Recife   \n",
       "7          Florida  Lighhouse Point Park, Ponce Inlet, Volusia County   \n",
       "8          Florida                       Cocoa Beach, Brevard  County   \n",
       "9          Florida                      Daytona Beach, Volusia County   \n",
       "\n",
       "      Activity                    Name Sex  ...          Species  \\\n",
       "0     Paddling             Julie Wolfe   F  ...      White shark   \n",
       "1        stand          AdysonMcNeely    F  ...          unknown   \n",
       "2         surf             John Denges   M  ...          unknown   \n",
       "3         surf                    male   M  ...        2 m shark   \n",
       "4  Free diving          Gustavo Ramos    M  ...  Tiger shark, 3m   \n",
       "5         surf                  Chris    M  ...          unknown   \n",
       "6         swim  Jose Ernesto da Silva    M  ...      Tiger shark   \n",
       "7      fishing                    male   M  ...  Lemon shark, 3'   \n",
       "8      Walking               Cody High   M  ...   Bull shark, 6'   \n",
       "9        stand                    male   M  ...          unknown   \n",
       "\n",
       "               InvestigatororSource                            pdf  \\\n",
       "0                  R. Collier, GSAF           2018.06.25-Wolfe.pdf   \n",
       "1    K.McMurray, TrackingSharks.com         2018.06.18-McNeely.pdf   \n",
       "2    K.McMurray, TrackingSharks.com          2018.06.09-Denges.pdf   \n",
       "3                    B. Myatt, GSAF       2018.06.08-Arrawarra.pdf   \n",
       "4                         A .Kipper           2018.06.04-Ramos.pdf   \n",
       "5         Daily Telegraph, 6/4/2018      2018.06.03.b-FlatRock.pdf   \n",
       "6    Diario de Pernambuco, 6/4/2018       2018.06.03.a-daSilva.pdf   \n",
       "7   K. McMurray, TrackingSharks.com           2018.05.27-Ponce.pdf   \n",
       "8    K.McMurray, TrackingSharks.com          2018.05.26.b-High.pdf   \n",
       "9  K. McMurray, Tracking Sharks.com  2018.05.26.a-DaytonaBeach.pdf   \n",
       "\n",
       "                                         hrefformula  \\\n",
       "0  http://sharkattackfile.net/spreadsheets/pdf_di...   \n",
       "1  http://sharkattackfile.net/spreadsheets/pdf_di...   \n",
       "2  http://sharkattackfile.net/spreadsheets/pdf_di...   \n",
       "3  http://sharkattackfile.net/spreadsheets/pdf_di...   \n",
       "4  http://sharkattackfile.net/spreadsheets/pdf_di...   \n",
       "5  http://sharkattackfile.net/spreadsheets/pdf_di...   \n",
       "6  http://sharkattackfile.net/spreadsheets/pdf_di...   \n",
       "7  http://sharkattackfile.net/spreadsheets/pdf_di...   \n",
       "8  http://sharkattackfile.net/spreadsheets/pdf_di...   \n",
       "9  http://sharkattackfile.net/spreadsheets/pdf_di...   \n",
       "\n",
       "                                                href  CaseNumber.1  \\\n",
       "0  http://sharkattackfile.net/spreadsheets/pdf_di...    2018.06.25   \n",
       "1  http://sharkattackfile.net/spreadsheets/pdf_di...    2018.06.18   \n",
       "2  http://sharkattackfile.net/spreadsheets/pdf_di...    2018.06.09   \n",
       "3  http://sharkattackfile.net/spreadsheets/pdf_di...    2018.06.08   \n",
       "4  http://sharkattackfile.net/spreadsheets/pdf_di...    2018.06.04   \n",
       "5  http://sharkattackfile.net/spreadsheets/pdf_di...  2018.06.03.b   \n",
       "6  http://sharkattackfile.net/spreadsheets/pdf_di...  2018.06.03.a   \n",
       "7  http://sharkattackfile.net/spreadsheets/pdf_di...    2018.05.27   \n",
       "8  http://sharkattackfile.net/spreadsheets/pdf_di...  2018.05.26.b   \n",
       "9  http://sharkattackfile.net/spreadsheets/pdf_di...  2018.05.26.a   \n",
       "\n",
       "   CaseNumber.2 originalorder Unnamed:22 Unnamed:23  \n",
       "0    2018.06.25        6303.0    unnamed    unnamed  \n",
       "1    2018.06.18        6302.0    unnamed    unnamed  \n",
       "2    2018.06.09        6301.0    unnamed    unnamed  \n",
       "3    2018.06.08        6300.0    unnamed    unnamed  \n",
       "4    2018.06.04        6299.0    unnamed    unnamed  \n",
       "5  2018.06.03.b        6298.0    unnamed    unnamed  \n",
       "6  2018.06.03.a        6297.0    unnamed    unnamed  \n",
       "7    2018.05.27        6296.0    unnamed    unnamed  \n",
       "8  2018.05.26.b        6295.0    unnamed    unnamed  \n",
       "9  2018.05.26.a        6294.0    unnamed    unnamed  \n",
       "\n",
       "[10 rows x 24 columns]"
      ]
     },
     "execution_count": 53,
     "metadata": {},
     "output_type": "execute_result"
    }
   ],
   "source": [
    "data.head(10)"
   ]
  },
  {
   "cell_type": "code",
   "execution_count": 52,
   "id": "8d49903f",
   "metadata": {},
   "outputs": [
    {
     "data": {
      "text/plain": [
       "(6302, 24)"
      ]
     },
     "execution_count": 52,
     "metadata": {},
     "output_type": "execute_result"
    }
   ],
   "source": [
    "data.shape"
   ]
  },
  {
   "cell_type": "code",
   "execution_count": 54,
   "id": "0b671431",
   "metadata": {},
   "outputs": [],
   "source": [
    "data.to_csv(\"attacks_clean.csv\", index=False)\n"
   ]
  },
  {
   "cell_type": "code",
   "execution_count": null,
   "id": "47971cba",
   "metadata": {},
   "outputs": [],
   "source": []
  },
  {
   "cell_type": "code",
   "execution_count": null,
   "id": "f3e23176",
   "metadata": {},
   "outputs": [],
   "source": []
  },
  {
   "cell_type": "code",
   "execution_count": null,
   "id": "7edb6fe3",
   "metadata": {},
   "outputs": [],
   "source": []
  },
  {
   "cell_type": "code",
   "execution_count": null,
   "id": "ddc36b47",
   "metadata": {},
   "outputs": [],
   "source": []
  },
  {
   "cell_type": "code",
   "execution_count": null,
   "id": "cbf26b5f",
   "metadata": {},
   "outputs": [],
   "source": []
  },
  {
   "cell_type": "code",
   "execution_count": null,
   "id": "0adf1d01",
   "metadata": {},
   "outputs": [],
   "source": []
  }
 ],
 "metadata": {
  "kernelspec": {
   "display_name": "Python 3 (ipykernel)",
   "language": "python",
   "name": "python3"
  },
  "language_info": {
   "codemirror_mode": {
    "name": "ipython",
    "version": 3
   },
   "file_extension": ".py",
   "mimetype": "text/x-python",
   "name": "python",
   "nbconvert_exporter": "python",
   "pygments_lexer": "ipython3",
   "version": "3.9.13"
  }
 },
 "nbformat": 4,
 "nbformat_minor": 5
}
